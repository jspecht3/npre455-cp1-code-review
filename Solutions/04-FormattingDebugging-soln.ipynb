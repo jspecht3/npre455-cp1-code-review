{
 "cells": [
  {
   "cell_type": "code",
   "execution_count": 1,
   "id": "a0a6ef10-6abe-41f1-804b-80be1a537e85",
   "metadata": {},
   "outputs": [],
   "source": [
    "# imports\n",
    "import numpy as np"
   ]
  },
  {
   "cell_type": "markdown",
   "id": "05fbe00e-98b7-4fed-a23f-bd0e89db3d2b",
   "metadata": {},
   "source": [
    "# Formatting Guidelines"
   ]
  },
  {
   "cell_type": "markdown",
   "id": "5b4998c8-d88e-47cf-b938-65c8a74a87cf",
   "metadata": {},
   "source": [
    "#### Question: What are some features of well-written code?"
   ]
  },
  {
   "cell_type": "markdown",
   "id": "3f9cf67f-8e76-466e-867c-5944e475aa42",
   "metadata": {},
   "source": [
    "- Good variable names\n",
    "- Plenty of spacing\n",
    "- Comments when needed*\n",
    "- Reasonably sized functions\n",
    "- \"Shallow\" or not deeply nested"
   ]
  },
  {
   "cell_type": "markdown",
   "id": "12e106eb-d9b5-4ab2-a0b8-6310fbbb68f0",
   "metadata": {},
   "source": [
    "## Well-Written Code"
   ]
  },
  {
   "cell_type": "markdown",
   "id": "cc5da112-7f9b-4547-bcb4-9a670a826920",
   "metadata": {},
   "source": [
    "Here, we'll go over each of the features of we previously discussed about well written code and how to make sure your code flows logically and is easy to read.\n",
    "\n",
    "These are only guidelines that help people (including your future self) read your code."
   ]
  },
  {
   "cell_type": "markdown",
   "id": "eca96790-9db9-469a-b2bb-bd0fbd2c716d",
   "metadata": {},
   "source": [
    "### Naming Objects"
   ]
  },
  {
   "cell_type": "markdown",
   "id": "f8341d67-eaf3-4952-a327-af2d809f8b86",
   "metadata": {},
   "source": [
    "(Adapted from \"Naming Things in Code\" by [CodeAesthetic](https://www.youtube.com/@CodeAesthetic/videos))"
   ]
  },
  {
   "cell_type": "markdown",
   "id": "bed3dd5d-de4b-4ee3-8145-99391540929b",
   "metadata": {},
   "source": [
    "#### Descriptive Names"
   ]
  },
  {
   "cell_type": "markdown",
   "id": "36f706c3-e5ab-42ca-8395-923a343ff912",
   "metadata": {},
   "source": [
    "First, name sure your object names are descriptive. Outside of coordinates (```x, y, r```), variables should not be a single letter. To the chagrin of many, multi-letter variables applies to indices too 😢."
   ]
  },
  {
   "cell_type": "markdown",
   "id": "8c575b3e-6163-4e86-90af-8f6c501dc028",
   "metadata": {},
   "source": [
    "Here is an example of bad object naming. Can you guess what ```s``` or ```nqr``` is?"
   ]
  },
  {
   "cell_type": "code",
   "execution_count": 2,
   "id": "15fb31cd-bf1b-411b-8c17-da1f68e34ddb",
   "metadata": {},
   "outputs": [],
   "source": [
    "# non-descriptive variable names\n",
    "k = 1.380649e-23\n",
    "\n",
    "def s(nqr):\n",
    "    return - k * (np.log(nqr) + 5/2)"
   ]
  },
  {
   "cell_type": "markdown",
   "id": "df757cec-10fc-458d-821e-162bd9c786b7",
   "metadata": {},
   "source": [
    "Let's change the object names to be more descriptive."
   ]
  },
  {
   "cell_type": "code",
   "execution_count": 3,
   "id": "d6a9719b-1c2d-4709-a8f4-921f794de8ca",
   "metadata": {},
   "outputs": [],
   "source": [
    "# descriptive variable names\n",
    "k = 1.380649e-23\n",
    "\n",
    "def entropy_ideal_gas(density_ratio):\n",
    "    return - k * (np.log(density_ratio) + 5/2)"
   ]
  },
  {
   "cell_type": "markdown",
   "id": "fb8dc58e-3a25-463b-aad2-d0a49ce8cafa",
   "metadata": {},
   "source": [
    "Anyone who guessed ```s``` is the entropy of an ideal gas particle given by the Sackur-Tetrode equation and ```nqr``` is the ratio of observed density to quantum density was correct!"
   ]
  },
  {
   "cell_type": "markdown",
   "id": "b29e8ee0-ee9e-4e54-a2e8-3b2dafa9ec02",
   "metadata": {},
   "source": [
    "#### Avoid Abbreviations"
   ]
  },
  {
   "cell_type": "markdown",
   "id": "d4acc0c2-b873-456d-b099-863eb53e7dce",
   "metadata": {},
   "source": [
    "Generally, you should not have abbreviations in your object names as they narrow the audience that can read your code. However, like everything in life, context matters. For this class, do not feel obligated to name your diffusion coefficient ```diffusion_coefficient``` instead of ```D``` -- this applies to your other variables too.\n",
    "\n",
    "Depending on the context, you can also use abbreviations like avg for average and stddev for standard deviation. Just keep in mind who the end user of the code will be."
   ]
  },
  {
   "cell_type": "code",
   "execution_count": 4,
   "id": "416760f1-cfcb-4ae2-9998-5e2318103910",
   "metadata": {},
   "outputs": [],
   "source": [
    "# with abbreviations\n",
    "def a_to_s(a):\n",
    "    d = a * 365.2422\n",
    "    h = d * 24\n",
    "    m = h * 60\n",
    "    s = m * 60\n",
    "\n",
    "    return s"
   ]
  },
  {
   "cell_type": "code",
   "execution_count": 5,
   "id": "1d02a392-7c76-4da5-aeee-2993da3a6225",
   "metadata": {},
   "outputs": [],
   "source": [
    "# without abbreviations\n",
    "def year_to_second(years):\n",
    "    days = years * 365.2422\n",
    "    hours = days * 24\n",
    "    minutes = hours * 60\n",
    "    seconds = minutes * 60\n",
    "\n",
    "    return seconds"
   ]
  },
  {
   "cell_type": "markdown",
   "id": "c2583061-4a9d-4e5a-ab89-16d09f69649b",
   "metadata": {},
   "source": [
    "You may have been able to guess what ```a_to_s``` meant by looking at the source code. However, imagine how annoyed you would be if you had to look through another person's (this includes your past self) source code to discern what a name meant."
   ]
  },
  {
   "cell_type": "markdown",
   "id": "7d4dcbec-b74d-49bd-bd52-d8af1e6f5070",
   "metadata": {},
   "source": [
    "### Blank Lines"
   ]
  },
  {
   "cell_type": "markdown",
   "id": "0bbed892-3457-432e-a3d8-72b8a0a5d02b",
   "metadata": {},
   "source": [
    "Adding blank lines is an easy way to improve the readability of your code. Spaces between lines group your code into blocks logically units.\n",
    "\n",
    "Let's see an example from one of our NPRE 451 labs where we did not have any blank lines in our code. (You will get an error if you try to run this)"
   ]
  },
  {
   "cell_type": "code",
   "execution_count": null,
   "id": "fac255a7-5430-4277-aed1-9c34c2b44b19",
   "metadata": {},
   "outputs": [],
   "source": [
    "# without blank lines\n",
    "def fit_all_models():\n",
    "    fit_results = [] # An empty array for storing the fitted parameters\n",
    "    models = [poisson, gaussian, binomial]\n",
    "    for model in models:\n",
    "        if model == poisson:\n",
    "            initial_guess = [sample_mean] # initial_guess = [YOUR GUESS FOR MU]\n",
    "            bounds = (250, 300) # bounds = (MU LOWER BOUND, MU UPPER BOUND)\n",
    "        if model == gaussian:\n",
    "            initial_guess = [sample_mean, sample_stdev] # initial_guess = [YOUR GUESS FOR MU, YOUR GUESS FOR SIGMA]\n",
    "            bounds = ([250, 10], [300, 20]) # bounds = ([MU LOWER BOUND, SIGMA LOWER BOUND], [MU UPPER BOUND, SIGMA UPPER BOUND])\n",
    "        if model == poisson or model == gaussian:\n",
    "            # the following line performs the fit\n",
    "            best_fit_parameters, cov_matrix = optimize.curve_fit(model, counts, probabilities, p0 = initial_guess, bounds = bounds)\n",
    "        if model == binomial:\n",
    "            guess_of_p = 1 - sample_stdev**2/sample_mean\n",
    "            guess_of_N = sample_mean / guess_of_p\n",
    "            initial_guess = [guess_of_N, guess_of_p] # initial_guess = [YOUR GUESS FOR N, YOUR GUESS FOR P]\n",
    "            best_fit_parameters, cov_matrix = optimize.curve_fit(model, counts, probabilities, p0 = initial_guess, maxfev = 10000)\n",
    "        fit_results.append([best_fit_parameters, cov_matrix])\n",
    "    return fit_results"
   ]
  },
  {
   "cell_type": "code",
   "execution_count": null,
   "id": "aa9b6c7b-e5e9-4355-a807-882ad37462e3",
   "metadata": {},
   "outputs": [],
   "source": [
    "# with blank lines\n",
    "def fit_all_models():\n",
    "    fit_results = [] # An empty array for storing the fitted parameters\n",
    "    models = [poisson, gaussian, binomial]\n",
    "    \n",
    "    for model in models:\n",
    "    \n",
    "        if model == poisson:\n",
    "            initial_guess = [sample_mean] # initial_guess = [YOUR GUESS FOR MU]\n",
    "            bounds = (250, 300) # bounds = (MU LOWER BOUND, MU UPPER BOUND)\n",
    "        \n",
    "        if model == gaussian:\n",
    "            initial_guess = [sample_mean, sample_stdev] # initial_guess = [YOUR GUESS FOR MU, YOUR GUESS FOR SIGMA]\n",
    "            bounds = ([250, 10], [300, 20]) # bounds = ([MU LOWER BOUND, SIGMA LOWER BOUND], [MU UPPER BOUND, SIGMA UPPER BOUND])\n",
    "        \n",
    "        if model == poisson or model == gaussian:\n",
    "            # the following line performs the fit\n",
    "            best_fit_parameters, cov_matrix = optimize.curve_fit(model, counts, probabilities, p0 = initial_guess, bounds = bounds)\n",
    "        \n",
    "        if model == binomial:\n",
    "            guess_of_p = 1 - sample_stdev**2/sample_mean\n",
    "            guess_of_N = sample_mean / guess_of_p\n",
    "    \n",
    "            initial_guess = [guess_of_N, guess_of_p] # initial_guess = [YOUR GUESS FOR N, YOUR GUESS FOR P]\n",
    "            best_fit_parameters, cov_matrix = optimize.curve_fit(model, counts, probabilities, p0 = initial_guess, maxfev = 10000)\n",
    "        \n",
    "        fit_results.append([best_fit_parameters, cov_matrix])\n",
    "    return fit_results"
   ]
  },
  {
   "cell_type": "markdown",
   "id": "03c595e2-a49e-4fc7-9fb6-5f45402b1a81",
   "metadata": {},
   "source": [
    "Although this code could be refactored, adding a few blank lines to visually group the code dramatically improves the readability of the code.\n",
    "\n",
    "Blank lines are free, so don't hestitate to add more. If you think your code would be easier to read with an extra blank line, it probably would be, so add the line."
   ]
  },
  {
   "cell_type": "markdown",
   "id": "640eebb3-6657-4735-8d35-052a6b5f0b53",
   "metadata": {},
   "source": [
    "### Comments"
   ]
  },
  {
   "cell_type": "markdown",
   "id": "3223270d-e76e-438a-a849-263942a4fa5d",
   "metadata": {},
   "source": [
    "In addition to blank lines, do not hesitate to add comments if you think the comment would improve readability.\n",
    "\n",
    "If you find yourself writing verbose comments, your code might benefit from simplification or refactoring."
   ]
  },
  {
   "cell_type": "markdown",
   "id": "c8990ea2-beb5-4f98-9374-874568a2bcc7",
   "metadata": {},
   "source": [
    "### Reasonably Sized Functions"
   ]
  },
  {
   "cell_type": "markdown",
   "id": "ab73b0ae-9441-4c7c-a210-cc3430075ebe",
   "metadata": {},
   "source": [
    "Each function should not have too much responsibility. Not only is a function that does too much hard to understand, gigantic functions are almost impossible to debug.\n",
    "\n",
    "Let's go back to the code we used for NPRE 451 and see if we can break up the function a bit better."
   ]
  },
  {
   "cell_type": "code",
   "execution_count": null,
   "id": "08486a71-f95c-4637-b1fd-ea3212cbc69e",
   "metadata": {},
   "outputs": [],
   "source": [
    "# all in one function\n",
    "def fit_all_models():\n",
    "    fit_results = [] # An empty array for storing the fitted parameters\n",
    "    models = [poisson, gaussian, binomial]\n",
    "    \n",
    "    for model in models:\n",
    "    \n",
    "        if model == poisson:\n",
    "            initial_guess = [sample_mean] # initial_guess = [YOUR GUESS FOR MU]\n",
    "            bounds = (250, 300) # bounds = (MU LOWER BOUND, MU UPPER BOUND)\n",
    "        \n",
    "        if model == gaussian:\n",
    "            initial_guess = [sample_mean, sample_stdev] # initial_guess = [YOUR GUESS FOR MU, YOUR GUESS FOR SIGMA]\n",
    "            bounds = ([250, 10], [300, 20]) # bounds = ([MU LOWER BOUND, SIGMA LOWER BOUND], [MU UPPER BOUND, SIGMA UPPER BOUND])\n",
    "        \n",
    "        if model == poisson or model == gaussian:\n",
    "            # the following line performs the fit\n",
    "            best_fit_parameters, cov_matrix = optimize.curve_fit(model, counts, probabilities, p0 = initial_guess, bounds = bounds)\n",
    "        \n",
    "        if model == binomial:\n",
    "            guess_of_p = 1 - sample_stdev**2/sample_mean\n",
    "            guess_of_N = sample_mean / guess_of_p\n",
    "    \n",
    "            initial_guess = [guess_of_N, guess_of_p] # initial_guess = [YOUR GUESS FOR N, YOUR GUESS FOR P]\n",
    "            best_fit_parameters, cov_matrix = optimize.curve_fit(model, counts, probabilities, p0 = initial_guess, maxfev = 10000)\n",
    "        \n",
    "        fit_results.append([best_fit_parameters, cov_matrix])\n",
    "    return fit_results"
   ]
  },
  {
   "cell_type": "code",
   "execution_count": null,
   "id": "b464c7a8-e653-44c4-866c-54e614302df6",
   "metadata": {},
   "outputs": [],
   "source": [
    "# multiple functions\n",
    "def poisson_params(mean=sample_mean, mu_bounds=(250, 300)):\n",
    "    \"\"\"Generates best fit parameters for a poisson distribution\"\"\"\n",
    "    initial_guess = [mean]\n",
    "    \n",
    "    fit_parameters, cov_matrix = optimize.curve_fit(\n",
    "        poisson, counts, probabilities, p0 = initial_guess, bounds = mu_bounds\n",
    "    )\n",
    "\n",
    "    return fit_parameters, cov_matrix\n",
    "\n",
    "\n",
    "def gaussian_params(\n",
    "    mean=sample_mean,\n",
    "    std=sample_std,\n",
    "    mu_bounds=(250, 300),\n",
    "    sigma_bounds=(10, 20)\n",
    "):\n",
    "    \"\"\"Generates best fit parameters for a gaussian distribution\"\"\"\n",
    "    initial_guess = [mean, std]\n",
    "    bounds = (\n",
    "        [mu_bounds[0], sigma_bounds[0]],\n",
    "        [mu_bounds[1], sigma_bounds[1]]\n",
    "    )\n",
    "\n",
    "    fit_parameters, cov_matrix = optimize.curve_fit(\n",
    "        gaussian, counts, probabilities, p0=initial_guess, bounds=bounds\n",
    "    )\n",
    "\n",
    "    return fit_parameters, cov_matrix\n",
    "\n",
    "\n",
    "def binomial_params(\n",
    "    mean=sample_mean,\n",
    "    std=sample_stddev,\n",
    "):\n",
    "    \"\"\"Generates Best fit parameters for a binomial disribution\"\"\"\n",
    "    P_guess = 1 - std**2 / mean\n",
    "    N_guess = mean / P_guess\n",
    "\n",
    "    initial_guess = [N_guess, P_guess]\n",
    "\n",
    "    fit_parameters, cov_matrix = optimize.curve_fit(\n",
    "        binomial, counts, probabilities, p0=initial_guess, maxfev=10000\n",
    "    )\n",
    "    \n",
    "    return fit_parameters, cov_matrix\n",
    "\n",
    "\n",
    "fit_results = [\n",
    "    poisson_params(),\n",
    "    gaussian_params(),\n",
    "    binomial_params()\n",
    "]"
   ]
  },
  {
   "cell_type": "markdown",
   "id": "b043386f-06ef-4d3c-bc6b-bb6b71ce80de",
   "metadata": {},
   "source": [
    "For the computer project, reasonably sized functions would be individual functions for generating diffusion coefficients, getting material properties, and performing different steps required to solve the problem.\n",
    "\n",
    "From experience, it is much easier to debug a function that only find the diffusion coefficient at a given point than a function that solves the entire question at once."
   ]
  },
  {
   "cell_type": "markdown",
   "id": "74261606-5f3e-4e11-96ac-f62d9c6807ae",
   "metadata": {},
   "source": [
    "### \"Shallow\" Code"
   ]
  },
  {
   "cell_type": "markdown",
   "id": "d297de42-d4d9-4bea-8d77-4728696408d4",
   "metadata": {},
   "source": [
    "A code being \"shallow\" means \n",
    "Nesting refers to a loop or statement inside another loop or statement. Each loop or statement adds another \"layer\" to your code. Generally, 2-3 should be the maximum depth for your code, however, exceptions do apply.\n",
    "\n",
    "Here is an example of counting layers in your code."
   ]
  },
  {
   "cell_type": "code",
   "execution_count": null,
   "id": "62a0ea09-677a-4717-a2c8-7e92e806f6e9",
   "metadata": {},
   "outputs": [],
   "source": [
    "# 0 layers deep\n",
    "def testing(end):\n",
    "    # 1 layer deep, functions move you down a layer\n",
    "    for i in range(end + 1):\n",
    "        # 2 layers deep, loops move you down a layer\n",
    "        if i % 2 == 0:\n",
    "            # 3 layers deep, statements move you down a layer\n",
    "            print(f\"{i} is even\")\n",
    "        # 2 layers deep\n",
    "        else:\n",
    "            # 3 layers deep\n",
    "            print(f\"{i} is odd\")\n",
    "    # 1 layer deep\n",
    "    return\n",
    "\n",
    "\n",
    "# 0 layers deep\n",
    "testing(3)"
   ]
  },
  {
   "cell_type": "markdown",
   "id": "5a467797-ea49-4065-b0d5-9ec99e07f0bc",
   "metadata": {},
   "source": [
    "In addition to deeper code being, generally, harder to read, layers also determine the scope of your variables. If you define a variable in layer 4, once you move back to layer 3, your variable is out of scope -- layer 1,2,3 cannot access the variable defined in layer 4.\n",
    "\n",
    "An example of deeply nested code and how to fix it will be shown later, but try limit depth of your code. If you need a for loop inside and if statement inside another if statement all in another for loop, they is probably a better way to write the code."
   ]
  },
  {
   "cell_type": "markdown",
   "id": "8034ab0b-1e2f-4e7c-a3e0-f709f2a1d930",
   "metadata": {},
   "source": [
    "# Formatting Example using ```sum_evens()```"
   ]
  },
  {
   "cell_type": "markdown",
   "id": "d07a5128-6329-42b0-8949-ed23e6ff5b8f",
   "metadata": {},
   "source": [
    "Let's look at a poorly written implementation of a function that adds all the even numbers between some bounds. This function works and does the intended job, however, it is somewhat difficult to sight read. (example from \"Why You Shouldn't Nest Your Code\" by [CodeAesthetic on YT](https://www.youtube.com/@CodeAesthetic/videos))"
   ]
  },
  {
   "cell_type": "markdown",
   "id": "07aae1ca-145f-4259-9a18-1885f525a9db",
   "metadata": {
    "jp-MarkdownHeadingCollapsed": true
   },
   "source": [
    "#### Question: What about this code makes it difficult to read?"
   ]
  },
  {
   "cell_type": "markdown",
   "id": "96ecc750-df0d-4eb4-9c97-0b99595a6c5e",
   "metadata": {},
   "source": [
    "The main issue with ```sum_evens()``` is how nested everything is. Particularly,\n",
    "1. the else statement at the bottom and\n",
    "2. the while loop has too much logic in it."
   ]
  },
  {
   "cell_type": "markdown",
   "id": "27d15b23-604d-402f-844c-5b9517f4f261",
   "metadata": {},
   "source": [
    "### Bad Example of ```sum_evens()```"
   ]
  },
  {
   "cell_type": "code",
   "execution_count": 10,
   "id": "42275be6-669d-4eee-a0ac-e0e486fcc925",
   "metadata": {},
   "outputs": [],
   "source": [
    "def sum_evens(bottom, top):\n",
    "    if (top > bottom):\n",
    "        total = 0\n",
    "        \n",
    "        while (bottom <= top):\n",
    "            if (bottom % 2 == 0):\n",
    "                total += bottom\n",
    "            bottom += 1\n",
    "\n",
    "        return total\n",
    "\n",
    "    else:\n",
    "        return 0"
   ]
  },
  {
   "cell_type": "code",
   "execution_count": 11,
   "id": "01ce0e3f-5522-4ac5-b081-c0c9f1e82d72",
   "metadata": {},
   "outputs": [
    {
     "data": {
      "text/plain": [
       "24"
      ]
     },
     "execution_count": 11,
     "metadata": {},
     "output_type": "execute_result"
    }
   ],
   "source": [
    "# you can test the code here\n",
    "sum_evens(5, 10)"
   ]
  },
  {
   "cell_type": "markdown",
   "id": "91352532-02a0-435a-86ec-cbb1aaa66aef",
   "metadata": {},
   "source": [
    "The code works as expected, but we can format ```sum_evens()``` in a much clearer way."
   ]
  },
  {
   "cell_type": "markdown",
   "id": "06e8a7bd-1d8f-4cfa-aa6d-b4d5cc49d90b",
   "metadata": {},
   "source": [
    "## Reformatting ```sum_evens()```"
   ]
  },
  {
   "cell_type": "markdown",
   "id": "211ff298-a8fb-41d2-b1bb-55de3978029c",
   "metadata": {},
   "source": [
    "### Extraction"
   ]
  },
  {
   "cell_type": "markdown",
   "id": "9b4afe44-10f9-4fb6-9ccd-ef6bc2285b45",
   "metadata": {},
   "source": [
    "Two ways we can improve the legibility of ```sum_evens()``` are extraction and inversion. We will start with extraction and come back to inversion in a minute.\n",
    "\n",
    "Extraction is a fancy way of saying \"this one function is doing too much, so I am going to extract some responsibility of the main function and create smaller, more isolated functions.\" We said before that the while loop is doing too much, so let's take some of the logic out of the while loop and create a new function to do the same thing."
   ]
  },
  {
   "cell_type": "code",
   "execution_count": 12,
   "id": "5617826c-de23-405d-98d2-db8b1a095f11",
   "metadata": {},
   "outputs": [],
   "source": [
    "def filter_evens(number):\n",
    "    if (number % 2 == 0):\n",
    "        return number\n",
    "\n",
    "    return 0\n",
    "\n",
    "\n",
    "def sum_evens(bottom, top):\n",
    "    if (top > bottom):\n",
    "        total = 0\n",
    "        \n",
    "        while (bottom <= top):\n",
    "            total += filter_evens(bottom)\n",
    "            bottom += 1\n",
    "\n",
    "        return total\n",
    "\n",
    "    else:\n",
    "        return 0"
   ]
  },
  {
   "cell_type": "markdown",
   "id": "27e91e39-c26e-4274-8c15-dc997192b59b",
   "metadata": {},
   "source": [
    "Here, we **extract** the responsibility of filtering the even numbers out of ```sum_evens``` and into ```filter_evens```. This example is fairly straightforward, but you can imagine doing something similar for a gigantic function that, for example, solves an entire problem on the computer project."
   ]
  },
  {
   "cell_type": "markdown",
   "id": "bd579b6e-4093-4fb2-af39-6f09ceebb742",
   "metadata": {},
   "source": [
    "### Inversion"
   ]
  },
  {
   "cell_type": "markdown",
   "id": "9214f66d-7391-4a8a-a350-50600e4ac97c",
   "metadata": {},
   "source": [
    "As previously mentioned, inversion is another way we can make code more readable. Instead of enter an ```if``` statement if ```top > bottom```, we can invert the condition and return early if ```bottom > top```.\n",
    "\n",
    "Let's see what this looks like."
   ]
  },
  {
   "cell_type": "code",
   "execution_count": 13,
   "id": "28bcb8c5-3f88-49f2-a8f0-41e5399ce267",
   "metadata": {},
   "outputs": [],
   "source": [
    "def filter_evens(number):\n",
    "    if (number % 2 == 0):\n",
    "        return number\n",
    "\n",
    "    return 0\n",
    "\n",
    "\n",
    "def sum_evens(bottom, top):\n",
    "    if (bottom > top):\n",
    "        return 0\n",
    "    \n",
    "    total = 0\n",
    "    \n",
    "    while (bottom <= top):\n",
    "        total += filter_evens(bottom)\n",
    "        bottom += 1\n",
    "\n",
    "    return total"
   ]
  },
  {
   "cell_type": "markdown",
   "id": "5e59c1ce-df69-4bcf-a140-09bf838fa801",
   "metadata": {},
   "source": [
    "Instead of entering the main body of our code by checking for a postive statement (```top > bottom```), we **invert** the statement to a negative (```bottom > top```).\n",
    "\n",
    "With inversion, we have a section of our code that \"validates the input\" before we enter the main body of our code. With inversion, the input validation section can have an arbitrary number of conditions ensuring your input follows an expected form.\n",
    "\n",
    "Once again, ```sum_evens()``` is fairly straightforward, so let's look at a particularly egregious example."
   ]
  },
  {
   "cell_type": "code",
   "execution_count": 14,
   "id": "1ad5d0df-72b9-4383-a84c-e8a5fa09aa5d",
   "metadata": {},
   "outputs": [],
   "source": [
    "def check_if_2(number):\n",
    "    if (number == int(number)):\n",
    "        if (number >= 0):\n",
    "            if (number % 2 == 0):\n",
    "                if (number == 2):\n",
    "                    return \"Yep, that's 2\"\n",
    "                else:\n",
    "                    return f\"{number} is an even natural number, but not 2\"\n",
    "            else:\n",
    "                return f\"{number} is a natural number, but not even\"\n",
    "        else:\n",
    "            return f\"{number} is an integer, but not a natural number\"\n",
    "    else:\n",
    "        return f\"{number} is not an integer\""
   ]
  },
  {
   "cell_type": "markdown",
   "id": "ddbfb3c0-1e87-4a2c-af99-049e2bbf594c",
   "metadata": {},
   "source": [
    "With inversion, ```check_if_2()``` becomes:"
   ]
  },
  {
   "cell_type": "code",
   "execution_count": 15,
   "id": "c0b0b898-81c1-4fdd-85eb-ed79df203238",
   "metadata": {},
   "outputs": [],
   "source": [
    "def check_if_2(number):\n",
    "    if (number != int(number)):\n",
    "        return f\"{number} is not an integer\"\n",
    "\n",
    "    if (number < 0):\n",
    "        return f\"{number} is an integer, but not a natural number\"\n",
    "\n",
    "    if (number % 2 != 0):\n",
    "        return f\"{number} is a natural number, but not even\"\n",
    "\n",
    "    if (number != 2):\n",
    "        return f\"{number} is an even natural number, but not 2\"\n",
    "    \n",
    "    return \"Yep, that's 2\""
   ]
  },
  {
   "cell_type": "markdown",
   "id": "96dc1528-95e6-433d-a976-e6871a735190",
   "metadata": {},
   "source": [
    "Which implementation do you think is easier to follow? Notice, both have the same number of lines as well.\n",
    "\n",
    "Instead of going through ```if else``` statements, the input gets sequentially validated. If the validation fails, the code returns early. \n",
    "\n",
    "When using inversion, it is best to start with the most common case that will cause an early return and work your way to the least common case. In this example, the most and least common cases are easy to determine, which may not be the case in actual problems"
   ]
  },
  {
   "cell_type": "markdown",
   "id": "f742d34c-1f5e-4ab2-8104-b6c74e780d53",
   "metadata": {},
   "source": [
    "# Unit Tests"
   ]
  },
  {
   "cell_type": "markdown",
   "id": "7eebf3c7-2f72-461f-8c9c-25857312b17b",
   "metadata": {},
   "source": [
    "Until this point, you have hopefully trusted me when I described what the function is doing. To reiterate, we expect ```sum_evens()``` to sum all the even numbers between the bottom and the top including the top. Additionally, if the bottom is larger than the top, we return 0.\n",
    "\n",
    "Using this logic, for a given ```(bottom, top)```, we expect the following results:\n",
    "- ```(0, 2)``` = 0 + 2 = 2\n",
    "- ```(0, 5)``` = 0 + 2 + 4 = 6\n",
    "- ```(4, 4)``` = 4\n",
    "- ```(10, 4)``` = 0\n",
    "- ```(-2, 5)``` = (-2) + 0 + 2 + 4 = 4\n",
    "- ```(-6, -3)``` = (-6) + (-4) + (-2) = -10"
   ]
  },
  {
   "cell_type": "markdown",
   "id": "d206d8f0-59f8-4097-bd54-2a4116c43cc6",
   "metadata": {},
   "source": [
    "If we want to check our code against the expected results, we can implement unit tests. Unit tests assert our function equal the expected value for a wide range of simple cases.\n",
    "\n",
    "Let's see what unit tests using ```assert``` might look for our ```sum_even()``` function."
   ]
  },
  {
   "cell_type": "code",
   "execution_count": 16,
   "id": "66ca97e5-35c1-4669-832e-c7e05d6bd6ab",
   "metadata": {},
   "outputs": [],
   "source": [
    "def test_sum_even():\n",
    "    assert sum_evens(0, 2) == 2\n",
    "    assert sum_evens(0, 5) == 6\n",
    "    assert sum_evens(4, 4) == 4\n",
    "    assert sum_evens(10, 4) == 0\n",
    "    assert sum_evens(-2, 5) == 4\n",
    "    assert sum_evens(-6, -3) == -10\n",
    "\n",
    "test_sum_even()"
   ]
  },
  {
   "cell_type": "markdown",
   "id": "eccfb8fb-c60e-435e-8b08-bfbac6b5a889",
   "metadata": {},
   "source": [
    "Unit tests reduces the need for temporary print statements in your functions that you manually against.\n",
    "\n",
    "When constructing unit tests, try to come up with every scenario that could be an issue. For this example, we checked:\n",
    "1. an even bottom to an even top\n",
    "2. an even bottom to an off top\n",
    "3. a bottom equal to top\n",
    "4. a bottom greater than the top\n",
    "5. a negative bottom to a positive top\n",
    "6. a negative bottom to a negative top\n",
    "\n",
    "This is by no means a comprehensive list. Still, each unit test provides a unique check not covered by the other.\n",
    "\n",
    "For this computer project, unit tests are by no means required. However, if you have questions about the code, easily showing your code works as intended or how your code fails will make it so much easier for Professor Novak and the TAs to help you debugging.\n",
    "\n",
    "(If you want a more robust testing suite, there is a module called [pytest](https://docs.pytest.org/en/stable/) designed with unit tests in mind.)"
   ]
  },
  {
   "cell_type": "markdown",
   "id": "94ded44c-b302-43de-b5d2-4ab4c8c15dc7",
   "metadata": {},
   "source": [
    "# Debugging"
   ]
  },
  {
   "cell_type": "markdown",
   "id": "24776af6-2217-4be0-83a5-78d8983f5e13",
   "metadata": {},
   "source": [
    "## Introduction"
   ]
  },
  {
   "cell_type": "markdown",
   "id": "7c809485-60e6-4e21-8c84-9efb5cc11c32",
   "metadata": {},
   "source": [
    "If you write any amount of code, you will inevitably have to debug your code. Debugging is the process of locating errors in your code, isolating those errors, and modifying your code to behave as expected.\n",
    "\n",
    "The term debugging comes from Admiral Grace Hopper, who worked on early computers at Harvard in the 1940s. The computer she was working on had a moth inside slowing the computer down. She then told administration they were \"debugging\" the system."
   ]
  },
  {
   "cell_type": "markdown",
   "id": "8dd1ddd4-f9b4-4657-b4b1-331a9d954534",
   "metadata": {},
   "source": [
    "Picture this; you ask another person for help debugging your code and they see a jumbled mess of code that has one-letter variables, no functions, and quantities defined nowhere near where they are used. Trying to find the bug in your code is like trying to find a needle in a hay stack."
   ]
  },
  {
   "cell_type": "markdown",
   "id": "a80fe79e-a440-4f69-8a0f-2b9ae3f6a470",
   "metadata": {},
   "source": [
    "#### For Jupyter Lab users"
   ]
  },
  {
   "cell_type": "markdown",
   "id": "15c500fc-8992-4f0d-8dd8-d183f43e46f7",
   "metadata": {},
   "source": [
    "Jupyter Lab caches variables in cells you have previously run"
   ]
  },
  {
   "cell_type": "markdown",
   "id": "2f7a5abf-85ca-417b-be39-0a9e3550cb53",
   "metadata": {},
   "source": [
    "#### Question: If you were helping somebody debug their code, what would you hope to see?"
   ]
  },
  {
   "cell_type": "markdown",
   "id": "be886b31-df34-4425-b87c-b7117edbd457",
   "metadata": {},
   "source": [
    "- Functions\n",
    "  - short, isolated, simple\n",
    "- Descriptive variables\n",
    "- Feedback mechanisms\n",
    "  - unit tests\n",
    "  - print statements\n",
    "- Anything else?"
   ]
  },
  {
   "cell_type": "markdown",
   "id": "38576b78-9a07-430f-bcfc-47a484845743",
   "metadata": {},
   "source": [
    "## Thinking about Writing Code"
   ]
  },
  {
   "cell_type": "markdown",
   "id": "c8b6d8ea-8791-421a-80f8-30cb660e1859",
   "metadata": {},
   "source": [
    "When you are writing code, think about the final product as a jigsaw puzzle. Each function or block of code you write is a puzzle piece. If you are trying to put 20 puzzle pieces together at once, you will take longer to solve the puzzle. Work one function at a time, ensure each function works as you expect, couple the fuction with your existing functions.\n",
    "\n",
    "Breaking up your code allows you to isolate bugs more easily and prevent you from combing through code that works."
   ]
  }
 ],
 "metadata": {
  "kernelspec": {
   "display_name": "Python 3 (ipykernel)",
   "language": "python",
   "name": "python3"
  },
  "language_info": {
   "codemirror_mode": {
    "name": "ipython",
    "version": 3
   },
   "file_extension": ".py",
   "mimetype": "text/x-python",
   "name": "python",
   "nbconvert_exporter": "python",
   "pygments_lexer": "ipython3",
   "version": "3.10.14"
  }
 },
 "nbformat": 4,
 "nbformat_minor": 5
}
